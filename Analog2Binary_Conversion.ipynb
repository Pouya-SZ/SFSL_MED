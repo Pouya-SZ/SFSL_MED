{
  "nbformat": 4,
  "nbformat_minor": 0,
  "metadata": {
    "colab": {
      "name": "Analog2Binary_Conversion.ipynb",
      "provenance": [],
      "collapsed_sections": []
    },
    "kernelspec": {
      "name": "python3",
      "display_name": "Python 3"
    }
  },
  "cells": [
    {
      "cell_type": "code",
      "metadata": {
        "id": "jkV_XMoTreJQ",
        "colab_type": "code",
        "colab": {}
      },
      "source": [
        "import pandas as pd\n",
        "import numpy as np\n",
        "from numpy import savetxt"
      ],
      "execution_count": 0,
      "outputs": []
    },
    {
      "cell_type": "code",
      "metadata": {
        "id": "GIS0EfZ9rwOg",
        "colab_type": "code",
        "colab": {}
      },
      "source": [
        "All_data = pd.read_csv('Analog_All_data.csv')\n",
        "\n",
        "All_data_columns = All_data.columns\n",
        "Gender_Column = pd.DataFrame.to_numpy(All_data['Gender'])\n",
        "Smoking_Column = pd.DataFrame.to_numpy(All_data['Smoking'])\n",
        "Age_Column = pd.DataFrame.to_numpy(All_data['Age'])\n",
        "Dielectric_Column = pd.DataFrame.to_numpy(All_data['Real-Min'])+1000"
      ],
      "execution_count": 0,
      "outputs": []
    },
    {
      "cell_type": "code",
      "metadata": {
        "id": "lpM-_mXft7Xu",
        "colab_type": "code",
        "colab": {}
      },
      "source": [
        "Binary_data = np.zeros([100, 23])"
      ],
      "execution_count": 0,
      "outputs": []
    },
    {
      "cell_type": "code",
      "metadata": {
        "id": "SpdE_CARvcOE",
        "colab_type": "code",
        "colab": {}
      },
      "source": [
        "for i in range (100):\n",
        "  if (Gender_Column[i]==1):\n",
        "    Binary_data[i,0]=1\n",
        "\n",
        "for i in range (100):\n",
        "  if (Smoking_Column[i]==1):\n",
        "    Binary_data[i,1]=1\n",
        "    \n",
        "  elif (Smoking_Column[i]==2):\n",
        "    Binary_data[i,1:3]=1\n",
        "\n",
        "  elif (Smoking_Column[i]==3):\n",
        "    Binary_data[i,1:4]=1\n",
        "\n",
        "for i in range (100):\n",
        "  if (Age_Column[i] <= 19):\n",
        "    Binary_data[i,4]=1\n",
        "  elif (Age_Column[i] <= 29):\n",
        "    Binary_data[i,4:6]=1\n",
        "  elif (Age_Column[i] <= 39):\n",
        "    Binary_data[i,4:7]=1\n",
        "  elif (Age_Column[i] <= 49):\n",
        "    Binary_data[i,4:8]=1\n",
        "  elif (Age_Column[i] <= 59):\n",
        "    Binary_data[i,4:9]=1\n",
        "  elif (Age_Column[i] <= 69):\n",
        "    Binary_data[i,4:10]=1\n",
        "  elif (Age_Column[i] <= 79):\n",
        "    Binary_data[i,4:11]=1\n",
        "  elif (Age_Column[i] <= 89):\n",
        "    Binary_data[i,4:12]=1\n",
        "  elif (Age_Column[i] <= 99):\n",
        "    Binary_data[i,4:13]=1\n",
        "\n",
        "for i in range (100):\n",
        "  if (Dielectric_Column[i] >= 450):\n",
        "    if (Dielectric_Column[i] <= 480):\n",
        "      Binary_data[i,13]=1\n",
        "    elif (Dielectric_Column[i] <= 490):\n",
        "      Binary_data[i,13:15]=1\n",
        "    elif (Dielectric_Column[i] <= 495):\n",
        "      Binary_data[i,13:16]=1\n",
        "    elif (Dielectric_Column[i] <= 500):\n",
        "      Binary_data[i,13:17]=1\n",
        "    elif (Dielectric_Column[i] <= 510):\n",
        "      Binary_data[i,13:18]=1\n",
        "    elif (Dielectric_Column[i] <= 520):\n",
        "      Binary_data[i,13:19]=1\n",
        "    elif (Dielectric_Column[i] <= 530):\n",
        "      Binary_data[i,13:20]=1\n",
        "    elif (Dielectric_Column[i] <= 550):\n",
        "      Binary_data[i,13:21]=1\n",
        "    elif (Dielectric_Column[i] <= 556):\n",
        "      Binary_data[i,13:22]=1\n",
        "    elif (Dielectric_Column[i] >= 556):\n",
        "      Binary_data[i,13:23]=1"
      ],
      "execution_count": 0,
      "outputs": []
    },
    {
      "cell_type": "code",
      "metadata": {
        "id": "a_Pw0KOdx5lS",
        "colab_type": "code",
        "colab": {}
      },
      "source": [
        "np.savetxt('All_data.csv', Binary_data, delimiter=',',fmt='%1.0f')\n",
        "files.download('All_data.csv')"
      ],
      "execution_count": 0,
      "outputs": []
    },
    {
      "cell_type": "code",
      "metadata": {
        "id": "-y9iro5k-S6J",
        "colab_type": "code",
        "colab": {}
      },
      "source": [
        ""
      ],
      "execution_count": 0,
      "outputs": []
    }
  ]
}